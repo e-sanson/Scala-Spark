{
 "cells": [
  {
   "cell_type": "markdown",
   "metadata": {},
   "source": [
    "<h1>Part  1</h1>\n",
    "\n",
    "Apache Spark program that uses map and reduceByKey to compute the average processing time by borough for 311 complaints. \n",
    "\n",
    "Program run on a cluster on the cloud. "
   ]
  },
  {
   "cell_type": "code",
   "execution_count": 8,
   "metadata": {},
   "outputs": [
    {
     "data": {
      "text/plain": [
       "missing: (d: (String, String))Option[(String, String)]\n"
      ]
     },
     "metadata": {},
     "output_type": "display_data"
    }
   ],
   "source": [
    "def missing(d: (String,String)): Option[(String,String)] = {\n",
    "    val r = try {\n",
    "         Some(d._2.toDouble)\n",
    "    } catch {\n",
    "        case e: Exception => None\n",
    "    }\n",
    "    r match {\n",
    "        case Some(s) => Some(d)\n",
    "        case None => None\n",
    "    }  \n",
    "}"
   ]
  },
  {
   "cell_type": "code",
   "execution_count": null,
   "metadata": {},
   "outputs": [],
   "source": [
    "val raw_data = sc.textFile(\"gs://es3770-bucket/data/nyc_data.csv\")\n",
    "val Borough=Array(\"BRONX\", \"MANHATTAN\", \"QUEENS\", \"STATEN ISLAND\", \"BROOKLYN\")"
   ]
  },
  {
   "cell_type": "code",
   "execution_count": 9,
   "metadata": {},
   "outputs": [
    {
     "data": {
      "text/plain": [
       "raw_data_header_removed = Array((STATEN ISLAND,4.255994466482484), (BROOKLYN,5.19899832428223), (MANHATTAN,6.200825048521457), (QUEENS,4.171593687013463), (BRONX,5.104011437265848))\n"
      ]
     },
     "metadata": {},
     "output_type": "display_data"
    },
    {
     "data": {
      "text/plain": [
       "[(STATEN ISLAND,4.255994466482484), (BROOKLYN,5.19899832428223), (MANHATTAN,6.200825048521457), (QUEENS,4.171593687013463), (BRONX,5.104011437265848)]"
      ]
     },
     "execution_count": 9,
     "metadata": {},
     "output_type": "execute_result"
    }
   ],
   "source": [
    "\n",
    "val raw_data_header_removed = raw_data.mapPartitionsWithIndex{ (idx,iter) => if (idx==0) iter.drop(1) else iter}\n",
    "            .map(l=>l.split(\",\")).map(l=>(l(6),l(7))).filter(l=>Borough.contains(l._1))\n",
    "            .flatMap(x => missing(x))\n",
    "            .mapValues(v=>(v.toDouble, 1))\n",
    "            .reduceByKey((a,b)=>(a._1+b._1,a._2+b._2)).mapValues(v=>(v._1/v._2))\n",
    "            .collect"
   ]
  },
  {
   "cell_type": "code",
   "execution_count": 10,
   "metadata": {},
   "outputs": [
    {
     "data": {
      "text/plain": [
       "Some(http://cluster-1888-m.c.cloud-spring2020-2-268815.internal:4040)"
      ]
     },
     "execution_count": 10,
     "metadata": {},
     "output_type": "execute_result"
    }
   ],
   "source": [
    "//Run the cell below and make sure the result (Out[[n]]:  ) is visible when you submit the file\n",
    "//This returns the url of the master and will confirm that you ran the code on the cluster\n",
    "//For example, my return value is:\n",
    "// Some(http://cluster-01cb-m.c.cloud-class-spring2020.internal:4040)\n",
    "\n",
    "sc.uiWebUrl"
   ]
  }
 ],
 "metadata": {
  "kernelspec": {
   "display_name": "Apache Toree - Scala",
   "language": "scala",
   "name": "apache_toree_scala"
  },
  "language_info": {
   "codemirror_mode": "text/x-scala",
   "file_extension": ".scala",
   "mimetype": "text/x-scala",
   "name": "scala",
   "pygments_lexer": "scala",
   "version": "2.11.8"
  }
 },
 "nbformat": 4,
 "nbformat_minor": 4
}
